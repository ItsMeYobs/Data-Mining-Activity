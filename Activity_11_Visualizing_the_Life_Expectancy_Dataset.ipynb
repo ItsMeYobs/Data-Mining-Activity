{
  "cells": [
    {
      "cell_type": "markdown",
      "metadata": {
        "id": "view-in-github",
        "colab_type": "text"
      },
      "source": [
        "<a href=\"https://colab.research.google.com/github/ItsMeYobs/Data-Mining-Activity/blob/main/Activity_11_Visualizing_the_Life_Expectancy_Dataset.ipynb\" target=\"_parent\"><img src=\"https://colab.research.google.com/assets/colab-badge.svg\" alt=\"Open In Colab\"/></a>"
      ]
    },
    {
      "cell_type": "markdown",
      "metadata": {
        "id": "LN6TEtpKRIBb"
      },
      "source": [
        "# Activity 11 - Visualizing the Life Expectancy Dataset"
      ]
    },
    {
      "cell_type": "markdown",
      "metadata": {
        "id": "s1gTHeevRIBj"
      },
      "source": [
        "Life expectancy quantifies the average period that a certain individual expects to live.  In this activity, you will explore how happiness and the economic status of a country affect the life expectancy of its countrymen.\n",
        "\n",
        "Download the notebook template in our google repository and document all parts of your code using the text cell/section in Colab. Include a section to discuss your findings.\n",
        "\n",
        "Submit the link to your notebook in mVLE with this email: kgbarroga@mmsu.edu.ph as your collaborator."
      ]
    },
    {
      "cell_type": "code",
      "execution_count": null,
      "metadata": {
        "id": "tNTdUpBTRIBk"
      },
      "outputs": [],
      "source": [
        "# do not change this cell/section\n",
        "# run this section to initialize your dataset\n",
        "\n",
        "import pandas as pd\n",
        "import matplotlib.pyplot as plt\n",
        "\n",
        "# google resource initialization\n",
        "url = 'https://drive.google.com/file/d/10Bl75VAt2U3XTFoc8hBJbu9tvfvh7BMa/view?usp=sharing'\n",
        "file_id=url.split('/')[-2]\n",
        "dwn_url='https://drive.google.com/uc?id=' + file_id\n",
        "\n",
        "# read the dataset\n",
        "dataset = pd.read_csv(dwn_url)"
      ]
    },
    {
      "cell_type": "code",
      "execution_count": null,
      "metadata": {
        "id": "VmJcir_xRIBm",
        "outputId": "0f1938f1-7d7c-4e4b-f649-835a56366831",
        "colab": {
          "base_uri": "https://localhost:8080/",
          "height": 236
        }
      },
      "outputs": [
        {
          "output_type": "execute_result",
          "data": {
            "text/plain": [
              "                  Country Name       1960       1961       1962       1963  \\\n",
              "0                        Aruba  65.662000  66.074000  66.444000  66.787000   \n",
              "1  Africa Eastern and Southern  42.716053  43.166935  43.603990  44.025617   \n",
              "2                  Afghanistan  32.446000  32.962000  33.471000  33.971000   \n",
              "3   Africa Western and Central  37.205380  37.632546  38.052612  38.463746   \n",
              "4                       Angola  37.524000  37.811000  38.113000  38.430000   \n",
              "\n",
              "        1964       1965       1966       1967       1968  ...       2012  \\\n",
              "0  67.113000  67.435000  67.762000  68.095000  68.436000  ...  75.299000   \n",
              "1  44.432721  44.826919  45.213048  45.594294  45.974059  ...  60.185561   \n",
              "2  34.463000  34.948000  35.430000  35.914000  36.403000  ...  62.054000   \n",
              "3  38.867073  39.264841  39.662762  40.066408  40.482832  ...  55.138944   \n",
              "4  38.760000  39.102000  39.454000  39.813000  40.178000  ...  57.236000   \n",
              "\n",
              "        2013       2014       2015       2016       2017       2018  \\\n",
              "0  75.441000  75.583000  75.725000  75.868000  76.010000  76.152000   \n",
              "1  60.953363  61.647367  62.259288  62.787681  63.246264  63.648988   \n",
              "2  62.525000  62.966000  63.377000  63.763000  64.130000  64.486000   \n",
              "3  55.618986  56.088269  56.542009  56.974761  57.382363  57.762347   \n",
              "4  58.054000  58.776000  59.398000  59.925000  60.379000  60.782000   \n",
              "\n",
              "        2019       2020  2021  \n",
              "0  76.293000  76.434000   NaN  \n",
              "1  64.005213  64.325702   NaN  \n",
              "2  64.833000  65.173000   NaN  \n",
              "3  58.115723  58.445953   NaN  \n",
              "4  61.147000  61.487000   NaN  \n",
              "\n",
              "[5 rows x 63 columns]"
            ],
            "text/html": [
              "\n",
              "  <div id=\"df-f7899166-c0e4-40d3-859e-02e105a7ff0e\">\n",
              "    <div class=\"colab-df-container\">\n",
              "      <div>\n",
              "<style scoped>\n",
              "    .dataframe tbody tr th:only-of-type {\n",
              "        vertical-align: middle;\n",
              "    }\n",
              "\n",
              "    .dataframe tbody tr th {\n",
              "        vertical-align: top;\n",
              "    }\n",
              "\n",
              "    .dataframe thead th {\n",
              "        text-align: right;\n",
              "    }\n",
              "</style>\n",
              "<table border=\"1\" class=\"dataframe\">\n",
              "  <thead>\n",
              "    <tr style=\"text-align: right;\">\n",
              "      <th></th>\n",
              "      <th>Country Name</th>\n",
              "      <th>1960</th>\n",
              "      <th>1961</th>\n",
              "      <th>1962</th>\n",
              "      <th>1963</th>\n",
              "      <th>1964</th>\n",
              "      <th>1965</th>\n",
              "      <th>1966</th>\n",
              "      <th>1967</th>\n",
              "      <th>1968</th>\n",
              "      <th>...</th>\n",
              "      <th>2012</th>\n",
              "      <th>2013</th>\n",
              "      <th>2014</th>\n",
              "      <th>2015</th>\n",
              "      <th>2016</th>\n",
              "      <th>2017</th>\n",
              "      <th>2018</th>\n",
              "      <th>2019</th>\n",
              "      <th>2020</th>\n",
              "      <th>2021</th>\n",
              "    </tr>\n",
              "  </thead>\n",
              "  <tbody>\n",
              "    <tr>\n",
              "      <th>0</th>\n",
              "      <td>Aruba</td>\n",
              "      <td>65.662000</td>\n",
              "      <td>66.074000</td>\n",
              "      <td>66.444000</td>\n",
              "      <td>66.787000</td>\n",
              "      <td>67.113000</td>\n",
              "      <td>67.435000</td>\n",
              "      <td>67.762000</td>\n",
              "      <td>68.095000</td>\n",
              "      <td>68.436000</td>\n",
              "      <td>...</td>\n",
              "      <td>75.299000</td>\n",
              "      <td>75.441000</td>\n",
              "      <td>75.583000</td>\n",
              "      <td>75.725000</td>\n",
              "      <td>75.868000</td>\n",
              "      <td>76.010000</td>\n",
              "      <td>76.152000</td>\n",
              "      <td>76.293000</td>\n",
              "      <td>76.434000</td>\n",
              "      <td>NaN</td>\n",
              "    </tr>\n",
              "    <tr>\n",
              "      <th>1</th>\n",
              "      <td>Africa Eastern and Southern</td>\n",
              "      <td>42.716053</td>\n",
              "      <td>43.166935</td>\n",
              "      <td>43.603990</td>\n",
              "      <td>44.025617</td>\n",
              "      <td>44.432721</td>\n",
              "      <td>44.826919</td>\n",
              "      <td>45.213048</td>\n",
              "      <td>45.594294</td>\n",
              "      <td>45.974059</td>\n",
              "      <td>...</td>\n",
              "      <td>60.185561</td>\n",
              "      <td>60.953363</td>\n",
              "      <td>61.647367</td>\n",
              "      <td>62.259288</td>\n",
              "      <td>62.787681</td>\n",
              "      <td>63.246264</td>\n",
              "      <td>63.648988</td>\n",
              "      <td>64.005213</td>\n",
              "      <td>64.325702</td>\n",
              "      <td>NaN</td>\n",
              "    </tr>\n",
              "    <tr>\n",
              "      <th>2</th>\n",
              "      <td>Afghanistan</td>\n",
              "      <td>32.446000</td>\n",
              "      <td>32.962000</td>\n",
              "      <td>33.471000</td>\n",
              "      <td>33.971000</td>\n",
              "      <td>34.463000</td>\n",
              "      <td>34.948000</td>\n",
              "      <td>35.430000</td>\n",
              "      <td>35.914000</td>\n",
              "      <td>36.403000</td>\n",
              "      <td>...</td>\n",
              "      <td>62.054000</td>\n",
              "      <td>62.525000</td>\n",
              "      <td>62.966000</td>\n",
              "      <td>63.377000</td>\n",
              "      <td>63.763000</td>\n",
              "      <td>64.130000</td>\n",
              "      <td>64.486000</td>\n",
              "      <td>64.833000</td>\n",
              "      <td>65.173000</td>\n",
              "      <td>NaN</td>\n",
              "    </tr>\n",
              "    <tr>\n",
              "      <th>3</th>\n",
              "      <td>Africa Western and Central</td>\n",
              "      <td>37.205380</td>\n",
              "      <td>37.632546</td>\n",
              "      <td>38.052612</td>\n",
              "      <td>38.463746</td>\n",
              "      <td>38.867073</td>\n",
              "      <td>39.264841</td>\n",
              "      <td>39.662762</td>\n",
              "      <td>40.066408</td>\n",
              "      <td>40.482832</td>\n",
              "      <td>...</td>\n",
              "      <td>55.138944</td>\n",
              "      <td>55.618986</td>\n",
              "      <td>56.088269</td>\n",
              "      <td>56.542009</td>\n",
              "      <td>56.974761</td>\n",
              "      <td>57.382363</td>\n",
              "      <td>57.762347</td>\n",
              "      <td>58.115723</td>\n",
              "      <td>58.445953</td>\n",
              "      <td>NaN</td>\n",
              "    </tr>\n",
              "    <tr>\n",
              "      <th>4</th>\n",
              "      <td>Angola</td>\n",
              "      <td>37.524000</td>\n",
              "      <td>37.811000</td>\n",
              "      <td>38.113000</td>\n",
              "      <td>38.430000</td>\n",
              "      <td>38.760000</td>\n",
              "      <td>39.102000</td>\n",
              "      <td>39.454000</td>\n",
              "      <td>39.813000</td>\n",
              "      <td>40.178000</td>\n",
              "      <td>...</td>\n",
              "      <td>57.236000</td>\n",
              "      <td>58.054000</td>\n",
              "      <td>58.776000</td>\n",
              "      <td>59.398000</td>\n",
              "      <td>59.925000</td>\n",
              "      <td>60.379000</td>\n",
              "      <td>60.782000</td>\n",
              "      <td>61.147000</td>\n",
              "      <td>61.487000</td>\n",
              "      <td>NaN</td>\n",
              "    </tr>\n",
              "  </tbody>\n",
              "</table>\n",
              "<p>5 rows × 63 columns</p>\n",
              "</div>\n",
              "      <button class=\"colab-df-convert\" onclick=\"convertToInteractive('df-f7899166-c0e4-40d3-859e-02e105a7ff0e')\"\n",
              "              title=\"Convert this dataframe to an interactive table.\"\n",
              "              style=\"display:none;\">\n",
              "        \n",
              "  <svg xmlns=\"http://www.w3.org/2000/svg\" height=\"24px\"viewBox=\"0 0 24 24\"\n",
              "       width=\"24px\">\n",
              "    <path d=\"M0 0h24v24H0V0z\" fill=\"none\"/>\n",
              "    <path d=\"M18.56 5.44l.94 2.06.94-2.06 2.06-.94-2.06-.94-.94-2.06-.94 2.06-2.06.94zm-11 1L8.5 8.5l.94-2.06 2.06-.94-2.06-.94L8.5 2.5l-.94 2.06-2.06.94zm10 10l.94 2.06.94-2.06 2.06-.94-2.06-.94-.94-2.06-.94 2.06-2.06.94z\"/><path d=\"M17.41 7.96l-1.37-1.37c-.4-.4-.92-.59-1.43-.59-.52 0-1.04.2-1.43.59L10.3 9.45l-7.72 7.72c-.78.78-.78 2.05 0 2.83L4 21.41c.39.39.9.59 1.41.59.51 0 1.02-.2 1.41-.59l7.78-7.78 2.81-2.81c.8-.78.8-2.07 0-2.86zM5.41 20L4 18.59l7.72-7.72 1.47 1.35L5.41 20z\"/>\n",
              "  </svg>\n",
              "      </button>\n",
              "      \n",
              "  <style>\n",
              "    .colab-df-container {\n",
              "      display:flex;\n",
              "      flex-wrap:wrap;\n",
              "      gap: 12px;\n",
              "    }\n",
              "\n",
              "    .colab-df-convert {\n",
              "      background-color: #E8F0FE;\n",
              "      border: none;\n",
              "      border-radius: 50%;\n",
              "      cursor: pointer;\n",
              "      display: none;\n",
              "      fill: #1967D2;\n",
              "      height: 32px;\n",
              "      padding: 0 0 0 0;\n",
              "      width: 32px;\n",
              "    }\n",
              "\n",
              "    .colab-df-convert:hover {\n",
              "      background-color: #E2EBFA;\n",
              "      box-shadow: 0px 1px 2px rgba(60, 64, 67, 0.3), 0px 1px 3px 1px rgba(60, 64, 67, 0.15);\n",
              "      fill: #174EA6;\n",
              "    }\n",
              "\n",
              "    [theme=dark] .colab-df-convert {\n",
              "      background-color: #3B4455;\n",
              "      fill: #D2E3FC;\n",
              "    }\n",
              "\n",
              "    [theme=dark] .colab-df-convert:hover {\n",
              "      background-color: #434B5C;\n",
              "      box-shadow: 0px 1px 3px 1px rgba(0, 0, 0, 0.15);\n",
              "      filter: drop-shadow(0px 1px 2px rgba(0, 0, 0, 0.3));\n",
              "      fill: #FFFFFF;\n",
              "    }\n",
              "  </style>\n",
              "\n",
              "      <script>\n",
              "        const buttonEl =\n",
              "          document.querySelector('#df-f7899166-c0e4-40d3-859e-02e105a7ff0e button.colab-df-convert');\n",
              "        buttonEl.style.display =\n",
              "          google.colab.kernel.accessAllowed ? 'block' : 'none';\n",
              "\n",
              "        async function convertToInteractive(key) {\n",
              "          const element = document.querySelector('#df-f7899166-c0e4-40d3-859e-02e105a7ff0e');\n",
              "          const dataTable =\n",
              "            await google.colab.kernel.invokeFunction('convertToInteractive',\n",
              "                                                     [key], {});\n",
              "          if (!dataTable) return;\n",
              "\n",
              "          const docLinkHtml = 'Like what you see? Visit the ' +\n",
              "            '<a target=\"_blank\" href=https://colab.research.google.com/notebooks/data_table.ipynb>data table notebook</a>'\n",
              "            + ' to learn more about interactive tables.';\n",
              "          element.innerHTML = '';\n",
              "          dataTable['output_type'] = 'display_data';\n",
              "          await google.colab.output.renderOutput(dataTable, element);\n",
              "          const docLink = document.createElement('div');\n",
              "          docLink.innerHTML = docLinkHtml;\n",
              "          element.appendChild(docLink);\n",
              "        }\n",
              "      </script>\n",
              "    </div>\n",
              "  </div>\n",
              "  "
            ]
          },
          "metadata": {},
          "execution_count": 10
        }
      ],
      "source": [
        "dataset.drop(['Country Code', 'Indicator Name','Indicator Code'], inplace = True, axis=1)\n",
        "dataset.head()"
      ]
    },
    {
      "cell_type": "markdown",
      "metadata": {
        "id": "kqtWKjZ0RIBo"
      },
      "source": [
        "## Data Analysis"
      ]
    },
    {
      "cell_type": "markdown",
      "metadata": {
        "id": "Pv9MjWlQRIBo"
      },
      "source": [
        "For your first objective, you need to compare and visualize the life expectancy of those countries with the happiest (`Finland`, `Denmark`, `Norway`) and saddest (`South Sudan`, `Central African Republic`, `Afghanistan`) individuals.  Discuss your perception of the figure and whether emotions might affect life expectancy."
      ]
    },
    {
      "cell_type": "code",
      "execution_count": null,
      "metadata": {
        "id": "dW_ba7f_RIBp",
        "colab": {
          "base_uri": "https://localhost:8080/",
          "height": 265
        },
        "outputId": "087cb946-77db-4241-f940-55722fa42016"
      },
      "outputs": [
        {
          "output_type": "display_data",
          "data": {
            "text/plain": [
              "<Figure size 432x288 with 1 Axes>"
            ],
            "image/png": "[encoded data removed]"
          },
          "metadata": {
            "needs_background": "light"
          }
        }
      ],
      "source": [
        "# Start your code here...\n",
        "# Get data in each country\n",
        "finland = dataset[dataset[\"Country Name\"] == \"Finland\"]\n",
        "denmark = dataset[dataset[\"Country Name\"] == \"Denmark\"]\n",
        "norway = dataset[dataset[\"Country Name\"] == \"Norway\"]\n",
        "south_sudan = dataset[dataset[\"Country Name\"] == \"South Sudan\"]\n",
        "central_african_republic = dataset[dataset[\"Country Name\"] == \"Central African Republic\"]\n",
        "afghanistan = dataset[dataset[\"Country Name\"] == \"Afghanistan\"]\n",
        "year = dataset.columns[1:]\n",
        "\n",
        "# Create a DataFrame Containting the life expectancy in each country\n",
        "df = pd.DataFrame({\"Finland\": dataset.iloc[finland.index[0]].values[1:], \"Denmark\": dataset.iloc[denmark.index[0]].values[1:], \"Norway\": dataset.iloc[norway.index[0]].values[1:], \\\n",
        "                   \"South Sudan\": dataset.iloc[south_sudan.index[0]].values[1:], \"Central African Republic\": dataset.iloc[central_african_republic.index[0]].values[1:], \\\n",
        "                   \"Afghanistan\": dataset.iloc[afghanistan.index[0]].values[1:]}, index=year)\n",
        "\n",
        "# Display Line Chart to visualize the dataframe\n",
        "df.plot.line();"
      ]
    },
    {
      "cell_type": "code",
      "execution_count": null,
      "metadata": {
        "id": "Q1Ntaj-wRIBq",
        "colab": {
          "base_uri": "https://localhost:8080/"
        },
        "outputId": "df98b619-8d36-440e-aff2-0b07ac62e27a"
      },
      "outputs": [
        {
          "output_type": "stream",
          "name": "stdout",
          "text": [
            "The line chart shows that Norway, Denmark, Finland are the highest life expectancy with an average life expectancy of 77.42847660950822, 75.85775289836066, 75.28704118409837 and happiest \n",
            "countries because of the high societal trust, strong welfare systems, relatively low crime and low unemployment means there are far fewer people who consider themselves unhappy. While\n",
            "Afghanistan, Central African Republic and South Sudan has the lowest life expectancy with an average life expectancy of 49.45906557377049,46.15863934426228, 44.56455737704918 and\n",
            "the saddest country because of years of war, corruption, grinding poverty and lack of jobs means there are a lot of people who are unhappy. Therefore, emotions affects life expectancy.\n"
          ]
        }
      ],
      "source": [
        "# Your discussion goes here...\n",
        "print(f\"The line chart shows that Norway, Denmark, Finland are the highest life expectancy with an average life expectancy of {df.Norway.mean()}, {df.Denmark.mean()}, {df.Finland.mean()} and happiest \")\n",
        "print(\"countries because of the high societal trust, strong welfare systems, relatively low crime and low unemployment means there are far fewer people who consider themselves unhappy. While\")\n",
        "print(f\"Afghanistan, Central African Republic and South Sudan has the lowest life expectancy with an average life expectancy of {df.Afghanistan.mean()},{df['Central African Republic'].mean()}, {df['South Sudan'].mean()} and\")\n",
        "print(f\"the saddest country because of years of war, corruption, grinding poverty and lack of jobs means there are a lot of people who are unhappy. Therefore, emotions affects life expectancy.\")"
      ]
    },
    {
      "cell_type": "markdown",
      "metadata": {
        "id": "xRfuN2A6RIBr"
      },
      "source": [
        "Your next objective is to compare and visualize the life expectancy of those countries with the best (`Luxembourg`, `Ireland`, `Singapore`) and worst (`Burundi`, `Somalia`, `Mozambique`) economic status in the world.  Also, discuss your perception of the figure and whether the economic status of the country might affect life expectancy."
      ]
    },
    {
      "cell_type": "code",
      "execution_count": null,
      "metadata": {
        "id": "jfdqiMO-RIBs",
        "colab": {
          "base_uri": "https://localhost:8080/",
          "height": 265
        },
        "outputId": "3594dffe-762e-49de-9a73-02b491deaaba"
      },
      "outputs": [
        {
          "output_type": "display_data",
          "data": {
            "text/plain": [
              "<Figure size 432x288 with 1 Axes>"
            ],
            "image/png": "[encoded data removed]"
          },
          "metadata": {
            "needs_background": "light"
          }
        }
      ],
      "source": [
        "# Start your code here...\n",
        "# Get data in each country\n",
        "luxembourg = dataset[dataset[\"Country Name\"] == \"Luxembourg\"]\n",
        "ireland = dataset[dataset[\"Country Name\"] == \"Ireland\"]\n",
        "singapore = dataset[dataset[\"Country Name\"] == \"Singapore\"]\n",
        "burundi = dataset[dataset[\"Country Name\"] == \"Burundi\"]\n",
        "somalia = dataset[dataset[\"Country Name\"] == \"Somalia\"]\n",
        "mozambique = dataset[dataset[\"Country Name\"] == \"Mozambique\"]\n",
        "\n",
        "# Create a DataFrame Containting the life expectancy in each country\n",
        "df1 = pd.DataFrame({\"Luxembourg\": dataset.iloc[luxembourg.index[0]].values[1:], \"Ireland\": dataset.iloc[ireland.index[0]].values[1:], \"Singapore\": dataset.iloc[singapore.index[0]].values[1:], \\\n",
        "                   \"Burundi\": dataset.iloc[burundi.index[0]].values[1:], \"Somalia\": dataset.iloc[somalia.index[0]].values[1:], \\\n",
        "                   \"Mozambique\": dataset.iloc[mozambique.index[0]].values[1:]}, index=year)\n",
        "\n",
        "# Display Line Chart to visualize the dataframe\n",
        "df1.plot.line();"
      ]
    },
    {
      "cell_type": "code",
      "execution_count": null,
      "metadata": {
        "id": "QSQkAQPoRIBt",
        "colab": {
          "base_uri": "https://localhost:8080/"
        },
        "outputId": "062e8a00-28f6-4c62-bb89-6f0512939ad9"
      },
      "outputs": [
        {
          "output_type": "stream",
          "name": "stdout",
          "text": [
            "The line chart shows that Ireland, Luxembourg and Singapore are the highest life expectancy with an average life expectancy of 75.33231187491802, 75.2275885642623, 74.98943462540983 and best \n",
            "countries with high economic status because their economy is a highly developed knowledge economy, focused on services in high-tech, life sciences, financial services and agribusiness, including agrifood. While\n",
            "Burundi, Somalia and Mozambique has the lowest life expectancy with an average life expectancy of 49.4391475409836, 47.228721311475404, 47.04604918032786 and the countries\n",
            "with worst economic status because majority of its population being dependent on agriculture and livestock for their livelihood. Therefore, economic status affects life expectancy.\n"
          ]
        }
      ],
      "source": [
        "# Your discussion goes here...\n",
        "print(f\"The line chart shows that Ireland, Luxembourg and Singapore are the highest life expectancy with an average life expectancy of {df1.Ireland.mean()}, {df1.Luxembourg.mean()}, {df1.Singapore.mean()} and best \")\n",
        "print(\"countries with high economic status because their economy is a highly developed knowledge economy, focused on services in high-tech, life sciences, financial services and agribusiness, including agrifood. While\")\n",
        "print(f\"Burundi, Somalia and Mozambique has the lowest life expectancy with an average life expectancy of {df1.Burundi.mean()}, {df1.Somalia.mean()}, {df1.Mozambique.mean()} and the countries\")\n",
        "print(f\"with worst economic status because majority of its population being dependent on agriculture and livestock for their livelihood. Therefore, economic status affects life expectancy.\")"
      ]
    },
    {
      "cell_type": "markdown",
      "metadata": {
        "id": "bIXJ6Lj0RIBt"
      },
      "source": [
        "And finally, compare and visualize the life expectancy of the Philippines to `Finland`, `Luxembourg`, `Burundi`, and `South Sudan`.  Discuss your perception of the figure."
      ]
    },
    {
      "cell_type": "code",
      "execution_count": null,
      "metadata": {
        "id": "Ddp_RcHlRIBu",
        "colab": {
          "base_uri": "https://localhost:8080/",
          "height": 265
        },
        "outputId": "b7b14aa8-9a37-4c80-fdfb-e156ead5a5ae"
      },
      "outputs": [
        {
          "output_type": "display_data",
          "data": {
            "text/plain": [
              "<Figure size 432x288 with 1 Axes>"
            ],
            "image/png": "[encoded data removed]"
          },
          "metadata": {
            "needs_background": "light"
          }
        }
      ],
      "source": [
        "# Start your code here...\n",
        "# Get data of the Philippines\n",
        "philippines = dataset[dataset[\"Country Name\"] == \"Philippines\"]\n",
        "\n",
        "# Create a DataFrame Containting the life expectancy in each country\n",
        "df2 = pd.DataFrame({\"Philippines\": dataset.iloc[philippines.index[0]].values[1:], \"Finland\": dataset.iloc[finland.index[0]].values[1:], \"Luxembourg\": dataset.iloc[luxembourg.index[0]].values[1:], \\\n",
        "                   \"Burundi\": dataset.iloc[burundi.index[0]].values[1:], \"South Sudan\": dataset.iloc[south_sudan.index[0]].values[1:]}, index=year)\n",
        "\n",
        "# Display Line Chart to visualize the dataframe\n",
        "df2.plot.line();"
      ]
    },
    {
      "cell_type": "code",
      "execution_count": null,
      "metadata": {
        "id": "l69qdd-vRIBu",
        "colab": {
          "base_uri": "https://localhost:8080/"
        },
        "outputId": "ed5015a9-0507-4167-c128-7d4f7e1d83b9"
      },
      "outputs": [
        {
          "output_type": "stream",
          "name": "stdout",
          "text": [
            "The line chart shows that the Philippines is near the two highest life expectancy which are Finland and Luxembourg with an average life expentancy of 75.28704118409837 and 75.2275885642623.\n",
            "Philippines has an average life expectancy of 66.382 which means that the Philippines is happy and getting better in economic status. While Burundi and South Sudan Falls under the\n",
            "Philippines with only an average life expectancy of 49.4391475409836 and 44.56455737704918 which means that this countries are saddest and bad ecomic status. Therefore, Philippines is near\n",
            "the happiest countries and best in economic status which translate to better life expectancy.\n"
          ]
        }
      ],
      "source": [
        "# Your discussion goes here...\n",
        "print(f\"The line chart shows that the Philippines is near the two highest life expectancy which are Finland and Luxembourg with an average life expentancy of {df2.Finland.mean()} and {df2.Luxembourg.mean()}.\")\n",
        "print(f\"Philippines has an average life expectancy of {df2.Philippines.mean()} which means that the Philippines is happy and getting better in economic status. While Burundi and South Sudan Falls under the\")\n",
        "print(f\"Philippines with only an average life expectancy of {df2.Burundi.mean()} and {df2['South Sudan'].mean()} which means that this countries are saddest and bad ecomic status. Therefore, Philippines is near\")\n",
        "print(\"the happiest countries and best in economic status which translate to better life expectancy.\")"
      ]
    }
  ],
  "metadata": {
    "kernelspec": {
      "display_name": "Python 3 (ipykernel)",
      "language": "python",
      "name": "python3"
    },
    "language_info": {
      "codemirror_mode": {
        "name": "ipython",
        "version": 3
      },
      "file_extension": ".py",
      "mimetype": "text/x-python",
      "name": "python",
      "nbconvert_exporter": "python",
      "pygments_lexer": "ipython3",
      "version": "3.7.6"
    },
    "colab": {
      "provenance": [],
      "include_colab_link": true
    }
  },
  "nbformat": 4,
  "nbformat_minor": 0
}